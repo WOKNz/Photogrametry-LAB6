{
 "cells": [
  {
   "cell_type": "markdown",
   "source": [
    "Imports"
   ],
   "metadata": {
    "collapsed": false,
    "pycharm": {
     "name": "#%% md\n"
    }
   }
  },
  {
   "cell_type": "code",
   "execution_count": 1,
   "outputs": [],
   "source": [
    "import numpy as np\n",
    "from Reader import Reader as rd\n",
    "import Camera\n",
    "import SingleImage\n",
    "from ImagePair import ImagePair\n",
    "import pandas as pd\n",
    "import matplotlib.pyplot as plt"
   ],
   "metadata": {
    "collapsed": false,
    "pycharm": {
     "name": "#%%\n",
     "is_executing": false
    }
   }
  },
  {
   "cell_type": "markdown",
   "metadata": {
    "collapsed": true,
    "pycharm": {
     "name": "#%% md\n"
    }
   },
   "source": [
    "Load x-point data"
   ]
  },
  {
   "cell_type": "code",
   "execution_count": 2,
   "outputs": [],
   "source": [
    "pic_points_3574 = rd.photoModXMLReader('181219/Lab6_points_3574.x-points')[2][1::2,1:].astype(float)\n",
    "pic_points_3575 = rd.photoModXMLReader('181219/Lab6_points_3575.x-points')[2][0::2,1:].astype(float)\n",
    "np.savetxt('pic_3574.csv', pic_points_3574, delimiter=',', fmt='%s')\n",
    "np.savetxt('pic_3575.csv', pic_points_3575, delimiter=',', fmt='%s')"
   ],
   "metadata": {
    "collapsed": false,
    "pycharm": {
     "name": "#%%\n",
     "is_executing": false
    }
   }
  },
  {
   "cell_type": "markdown",
   "source": [
    "Loading camera parmaeters fiducials and mesured points + creating img objects"
   ],
   "metadata": {
    "collapsed": false,
    "pycharm": {
     "name": "#%% md\n"
    }
   }
  },
  {
   "cell_type": "code",
   "execution_count": 3,
   "outputs": [
    {
     "data": {
      "text/plain": "<Figure size 432x288 with 1 Axes>",
      "image/png": "[encoded data removed]"
     },
     "metadata": {
      "needs_background": "light"
     },
     "output_type": "display_data"
    }
   ],
   "source": [
    "camraw = rd.ReadCamFile('rc30.cam')\n",
    "tagraw3574 = rd.Readtxtfile('fiducialsImg3574.txt')\n",
    "tagraw3575 = rd.Readtxtfile('fiducialsImg3575.txt')\n",
    "points_control_ground = (rd.photoModXMLReader('Lab5.x-points')[1][:,2:5]).astype(float)\n",
    "points_control_pic_3574 = (rd.photoModXMLReader('Lab5.x-points')[2][1::2,1:]).astype(float)\n",
    "points_control_pic_3575 = (rd.photoModXMLReader('Lab5.x-points')[2][0::2,1:]).astype(float)\n",
    "\n",
    "plt.scatter(points_control_pic_3574[:,0],points_control_pic_3574[:,1])\n",
    "plt.scatter(points_control_pic_3575[:,0],points_control_pic_3575[:,1])\n",
    "plt.axis('equal')\n",
    "plt.show()\n",
    "\n",
    "camera = Camera.Camera(camraw['f'], np.array([camraw['xp'],camraw['yp']]),\\\n",
    "                        np.array([camraw['k0'],camraw['k1'],camraw['k2']]),\\\n",
    "                        np.array([camraw['p1'],camraw['p2'],camraw['p3']]),\\\n",
    "                        camraw['fiducials'])\n",
    "\n",
    "\n",
    "image3574 = SingleImage.SingleImage(camera)\n",
    "image3575 = SingleImage.SingleImage(camera)"
   ],
   "metadata": {
    "collapsed": false,
    "pycharm": {
     "name": "#%%\n",
     "is_executing": false
    }
   }
  },
  {
   "cell_type": "markdown",
   "source": [
    "Inner orientation + Extrerior orientation"
   ],
   "metadata": {
    "collapsed": false,
    "pycharm": {
     "name": "#%% md\n"
    }
   }
  },
  {
   "cell_type": "code",
   "execution_count": 4,
   "outputs": [
    {
     "data": {
      "text/plain": "<Figure size 432x288 with 1 Axes>",
      "image/png": "[encoded data removed]"
     },
     "metadata": {
      "needs_background": "light"
     },
     "output_type": "display_data"
    }
   ],
   "source": [
    "inner_or_3574 = image3574.ComputeInnerOrientation(tagraw3574[0:7,:])\n",
    "inner_or_3575 = image3575.ComputeInnerOrientation(tagraw3575[0:7,:])\n",
    "\n",
    "outer_or_3574 = image3574.ComputeExteriorOrientation(points_control_pic_3574,points_control_ground,0.000001)\n",
    "outer_or_3575 = image3575.ComputeExteriorOrientation(points_control_pic_3575,points_control_ground,0.000001)\n",
    "\n",
    "picpoints_3574_mm = image3574.ImageToCamera(pic_points_3574)\n",
    "picpoints_3575_mm = image3575.ImageToCamera(pic_points_3575)\n",
    "\n",
    "plt.scatter(picpoints_3574_mm[:,0],picpoints_3574_mm[:,1])\n",
    "plt.scatter(picpoints_3575_mm[:,0],picpoints_3575_mm[:,1])\n",
    "plt.axis('equal')\n",
    "plt.show()\n",
    "\n",
    "# print('Camera points 3574 (mm):\\n', pd.DataFrame(picpoints_3574_mm), '\\n')\n",
    "# print('Camera points 3575 (mm):\\n', pd.DataFrame(picpoints_3575_mm), '\\n')\n",
    "np.savetxt('picpoints_3574_mm.csv', picpoints_3574_mm, delimiter=',', fmt='%s')\n",
    "np.savetxt('picpoints_3575_mm.csv', picpoints_3575_mm, delimiter=',', fmt='%s')"
   ],
   "metadata": {
    "collapsed": false,
    "pycharm": {
     "name": "#%%\n",
     "is_executing": false
    }
   }
  },
  {
   "cell_type": "markdown",
   "source": [
    "Part B"
   ],
   "metadata": {
    "collapsed": false,
    "pycharm": {
     "name": "#%% md\n"
    }
   }
  },
  {
   "cell_type": "code",
   "execution_count": 5,
   "outputs": [
    {
     "name": "stdout",
     "text": [
      "                                                   0\n",
      "0  [[[202361.88372766133], [742290.3762847772], [...\n",
      "1  [[[128.96477473065897], [138.37140380070196], ...\n"
     ],
     "output_type": "stream"
    }
   ],
   "source": [
    "\n",
    "set3574_3575 = ImagePair(image3574, image3575)\n",
    "\n",
    "lab6_points_ground = set3574_3575.ImagesToGround(pic_points_3574, pic_points_3575, Method='geometric')\n",
    "\n",
    "print(pd.DataFrame(lab6_points_ground))\n",
    "np.savetxt('lab6_points_ground.csv', lab6_points_ground[0].astype(float), delimiter=',', fmt='%s')\n",
    "np.savetxt('lab6_points_ground_dis.csv', lab6_points_ground[1].astype(float), delimiter=',', fmt='%s')\n"
   ],
   "metadata": {
    "collapsed": false,
    "pycharm": {
     "name": "#%% \n",
     "is_executing": false
    }
   }
  },
  {
   "cell_type": "markdown",
   "source": [
    "Calculating area"
   ],
   "metadata": {
    "collapsed": false,
    "pycharm": {
     "name": "#%% md\n"
    }
   }
  },
  {
   "cell_type": "code",
   "execution_count": 6,
   "outputs": [
    {
     "name": "stdout",
     "text": [
      "area world: 11.1199951171875\n",
      "area camera: 6.003823692797687e-05\n",
      "185215.21760419582\n",
      "430.3663760148971\n"
     ],
     "output_type": "stream"
    }
   ],
   "source": [
    "def area(x,y):\n",
    "    \"\"\"\n",
    "    :param x: ordinate set of x\n",
    "    :param y: ordinate set of y\n",
    "    \"\"\"\n",
    "    return np.abs(np.dot(x,np.roll(y,1))-np.dot(y,np.roll(x,1)))*0.5\n",
    "\n",
    "area_world = area(lab6_points_ground[0][:,0].astype(float), lab6_points_ground[0][:,1].astype(float))\n",
    "area_camera = area(picpoints_3574_mm[:,0], picpoints_3574_mm[:,1])/1000000\n",
    "print('area world:', area_world)\n",
    "print('area camera:', area_camera)\n",
    "print(area_world/area_camera)\n",
    "print(np.sqrt(area_world/area_camera))"
   ],
   "metadata": {
    "collapsed": false,
    "pycharm": {
     "name": "#%%\n",
     "is_executing": false
    }
   }
  }
 ],
 "metadata": {
  "kernelspec": {
   "display_name": "Python 3",
   "language": "python",
   "name": "python3"
  },
  "language_info": {
   "codemirror_mode": {
    "name": "ipython",
    "version": 2
   },
   "file_extension": ".py",
   "mimetype": "text/x-python",
   "name": "python",
   "nbconvert_exporter": "python",
   "pygments_lexer": "ipython2",
   "version": "2.7.6"
  },
  "pycharm": {
   "stem_cell": {
    "cell_type": "raw",
    "source": [],
    "metadata": {
     "collapsed": false
    }
   }
  }
 },
 "nbformat": 4,
 "nbformat_minor": 0
}